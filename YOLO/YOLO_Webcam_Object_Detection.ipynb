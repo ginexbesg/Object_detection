{
 "cells": [
  {
   "cell_type": "code",
   "execution_count": null,
   "id": "36a8dbd4",
   "metadata": {},
   "outputs": [],
   "source": [
    "#https://www.youtube.com/watch?v=1LCb1PVqzeY"
   ]
  },
  {
   "cell_type": "code",
   "execution_count": null,
   "id": "102db4b9",
   "metadata": {},
   "outputs": [],
   "source": [
    "import cv2\n",
    "import numpy as np\n"
   ]
  },
  {
   "cell_type": "code",
   "execution_count": null,
   "id": "954be5be",
   "metadata": {},
   "outputs": [],
   "source": [
    "#  https://pjreddie.com/darknet/yolo/ to download weight file\n",
    "#!git clone https://github.com/pjreddie/darknet to download cfg file\n",
    "#https://github.com/pjreddie/darknet/blob/master/data/coco.names\n",
    "net = cv2.dnn.readNet('yolov3.weights','yolov3.cfg')"
   ]
  },
  {
   "cell_type": "code",
   "execution_count": null,
   "id": "e90bbbe2",
   "metadata": {},
   "outputs": [],
   "source": [
    "classes=[]\n",
    "with open('coco.names','r') as f:\n",
    "    classes = f.read().splitlines()\n",
    "\n",
    "print(classes)"
   ]
  },
  {
   "cell_type": "code",
   "execution_count": null,
   "id": "13835b93",
   "metadata": {},
   "outputs": [],
   "source": [
    "fourcc = cv2.VideoWriter_fourcc('X','V','I','D')\n",
    "\n",
    "out = cv2.VideoWriter(\"outputYOLOWebcam.mp4\", fourcc, 5.0, (1280,720))"
   ]
  },
  {
   "cell_type": "code",
   "execution_count": null,
   "id": "c67b8652",
   "metadata": {},
   "outputs": [],
   "source": [
    "#from webcam\n",
    "cap = cv2.VideoCapture(0)\n",
    "\n"
   ]
  },
  {
   "cell_type": "code",
   "execution_count": null,
   "id": "8abfa3bf",
   "metadata": {},
   "outputs": [],
   "source": [
    "#1/255 image normailzation \n",
    "#416,416 image resize\n",
    "#swapRB change position red and blue (rgb to bgr)\n",
    "\n",
    "while True:\n",
    "    _, img= cap.read()\n",
    "    height, width, _ = img.shape\n",
    "    blob = cv2.dnn.blobFromImage(img, 1/255,  (416,416), (0,0,0), swapRB=True, crop=False)\n",
    "\n",
    "    # for b in blob:\n",
    "    #     for n, img_blob in enumerate(b):\n",
    "    #         cv2.imshow()\n",
    "\n",
    "    #to set input \n",
    "    net.setInput(blob)\n",
    "\n",
    "    #get output layers names\n",
    "    output_layers_names = net.getUnconnectedOutLayersNames()\n",
    "\n",
    "    #get function layerOutputs provided by layer names\n",
    "    layerOutputs = net.forward(output_layers_names)\n",
    "\n",
    "    boxes=[]\n",
    "    confidences = []\n",
    "    class_ids =[]\n",
    "\n",
    "    for output in layerOutputs:\n",
    "        for detection in output:\n",
    "            scores = detection[5:]\n",
    "            class_id = np.argmax(scores)\n",
    "            confidence = scores[class_id]\n",
    "            if confidence > 0.5 :\n",
    "                center_x = int(detection[0]*width)\n",
    "                center_y = int(detection[1]*height)\n",
    "                w = int(detection[2]*width)\n",
    "                h = int(detection[3]*height)\n",
    "\n",
    "                x = int(center_x - w/2)\n",
    "                y = int(center_y - h/2)\n",
    "\n",
    "                boxes.append([x,y,w,h])\n",
    "                confidences.append((float(confidence)))\n",
    "                class_ids.append(class_id)\n",
    "\n",
    "    print(len(boxes))\n",
    "\n",
    "    #0.5 is same with confidence threshold\n",
    "    #0.4 is max suppression\n",
    "    indexes = cv2.dnn.NMSBoxes(boxes, confidences, 0.5, 0.4)\n",
    "\n",
    "    font = cv2.FONT_HERSHEY_PLAIN\n",
    "    #colors = np.random.uniform(0,255,size=(len(boxes), 3))\n",
    "    if len(indexes)>0:\n",
    "        for i in indexes.flatten():\n",
    "            \n",
    "            x,y,w,h = boxes[i]\n",
    "            label = str(classes[class_ids[i]])\n",
    "            if label == 'person':\n",
    "                confidence = str(round(confidences[i],2))\n",
    "                #color = colors[i]\n",
    "                cv2.rectangle(img, (x,y), (x+w, y+h), (0,255,0), 2)\n",
    "                cv2.putText(img, label + \" \"+ confidence, (x,y+20), font, 2, (255,255,255), 2)\n",
    "            \n",
    "    \n",
    "    #esc key\n",
    "    cv2.imshow('Image', img)\n",
    "    imageWrite = cv2.resize(img, (1280,720))\n",
    "    out.write(imageWrite)\n",
    "    key = cv2.waitKey(1)\n",
    "    if key==27:\n",
    "        break\n",
    "\n",
    "    "
   ]
  },
  {
   "cell_type": "code",
   "execution_count": null,
   "id": "9226ab14",
   "metadata": {},
   "outputs": [],
   "source": [
    "cap.release()\n",
    "out.release()\n",
    "cv2.destroyAllWindows()\n"
   ]
  },
  {
   "cell_type": "code",
   "execution_count": null,
   "id": "168a3aa2",
   "metadata": {},
   "outputs": [],
   "source": []
  }
 ],
 "metadata": {
  "kernelspec": {
   "display_name": "Python 3 (ipykernel)",
   "language": "python",
   "name": "python3"
  },
  "language_info": {
   "codemirror_mode": {
    "name": "ipython",
    "version": 3
   },
   "file_extension": ".py",
   "mimetype": "text/x-python",
   "name": "python",
   "nbconvert_exporter": "python",
   "pygments_lexer": "ipython3",
   "version": "3.9.12"
  }
 },
 "nbformat": 4,
 "nbformat_minor": 5
}
