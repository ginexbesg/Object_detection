{
 "cells": [
  {
   "cell_type": "code",
   "execution_count": 1,
   "id": "36a8dbd4",
   "metadata": {},
   "outputs": [],
   "source": [
    "#https://www.youtube.com/watch?v=1LCb1PVqzeY"
   ]
  },
  {
   "cell_type": "code",
   "execution_count": 2,
   "id": "102db4b9",
   "metadata": {},
   "outputs": [],
   "source": [
    "import cv2\n",
    "import numpy as np\n"
   ]
  },
  {
   "cell_type": "code",
   "execution_count": 3,
   "id": "954be5be",
   "metadata": {},
   "outputs": [],
   "source": [
    "#  https://pjreddie.com/darknet/yolo/ to download weight file\n",
    "#!git clone https://github.com/pjreddie/darknet to download cfg file\n",
    "#https://github.com/pjreddie/darknet/blob/master/data/coco.names\n",
    "net = cv2.dnn.readNet('yolov3.weights','yolov3.cfg')"
   ]
  },
  {
   "cell_type": "code",
   "execution_count": 4,
   "id": "e90bbbe2",
   "metadata": {},
   "outputs": [
    {
     "name": "stdout",
     "output_type": "stream",
     "text": [
      "['person', 'bicycle', 'car', 'motorbike', 'aeroplane', 'bus', 'train', 'truck', 'boat', 'traffic light', 'fire hydrant', 'stop sign', 'parking meter', 'bench', 'bird', 'cat', 'dog', 'horse', 'sheep', 'cow', 'elephant', 'bear', 'zebra', 'giraffe', 'backpack', 'umbrella', 'handbag', 'tie', 'suitcase', 'frisbee', 'skis', 'snowboard', 'sports ball', 'kite', 'baseball bat', 'baseball glove', 'skateboard', 'surfboard', 'tennis racket', 'bottle', 'wine glass', 'cup', 'fork', 'knife', 'spoon', 'bowl', 'banana', 'apple', 'sandwich', 'orange', 'broccoli', 'carrot', 'hot dog', 'pizza', 'donut', 'cake', 'chair', 'sofa', 'pottedplant', 'bed', 'diningtable', 'toilet', 'tvmonitor', 'laptop', 'mouse', 'remote', 'keyboard', 'cell phone', 'microwave', 'oven', 'toaster', 'sink', 'refrigerator', 'book', 'clock', 'vase', 'scissors', 'teddy bear', 'hair drier', 'toothbrush']\n"
     ]
    }
   ],
   "source": [
    "classes=[]\n",
    "with open('coco.names','r') as f:\n",
    "    classes = f.read().splitlines()\n",
    "\n",
    "print(classes)"
   ]
  },
  {
   "cell_type": "code",
   "execution_count": 5,
   "id": "c67b8652",
   "metadata": {},
   "outputs": [],
   "source": [
    "\n",
    "\n",
    "img= cv2.imread('1.jfif')\n",
    "height, width, _ = img.shape\n"
   ]
  },
  {
   "cell_type": "code",
   "execution_count": 6,
   "id": "8abfa3bf",
   "metadata": {},
   "outputs": [
    {
     "name": "stdout",
     "output_type": "stream",
     "text": [
      "12\n",
      "[ 7  2  9 10  3]\n"
     ]
    }
   ],
   "source": [
    "#1/255 image normailzation \n",
    "#416,416 image resize\n",
    "#swapRB change position red and blue (rgb to bgr)\n",
    "\n",
    "blob = cv2.dnn.blobFromImage(img, 1/255,  (416,416), (0,0,0), swapRB=True, crop=False)\n",
    "\n",
    "# for b in blob:\n",
    "#     for n, img_blob in enumerate(b):\n",
    "#         cv2.imshow()\n",
    "\n",
    "#to set input \n",
    "net.setInput(blob)\n",
    "\n",
    "#get output layers names\n",
    "output_layers_names = net.getUnconnectedOutLayersNames()\n",
    "\n",
    "#get function layerOutputs provided by layer names\n",
    "layerOutputs = net.forward(output_layers_names)\n",
    "\n",
    "boxes=[]\n",
    "confidences = []\n",
    "class_ids =[]\n",
    "\n",
    "for output in layerOutputs:\n",
    "    for detection in output:\n",
    "        scores = detection[5:]\n",
    "        class_id = np.argmax(scores)\n",
    "        confidence = scores[class_id]\n",
    "        if confidence > 0.5 :\n",
    "            center_x = int(detection[0]*width)\n",
    "            center_y = int(detection[1]*height)\n",
    "            w = int(detection[2]*width)\n",
    "            h = int(detection[3]*height)\n",
    "            \n",
    "            x = int(center_x - w/2)\n",
    "            y = int(center_y - h/2)\n",
    "            \n",
    "            boxes.append([x,y,w,h])\n",
    "            confidences.append((float(confidence)))\n",
    "            class_ids.append(class_id)\n",
    "            \n",
    "print(len(boxes))\n",
    "\n",
    "#0.5 is same with confidence threshold\n",
    "#0.4 is max suppression\n",
    "indexes = cv2.dnn.NMSBoxes(boxes, confidences, 0.5, 0.4)\n",
    "\n",
    "font = cv2.FONT_HERSHEY_PLAIN\n",
    "colors = np.random.uniform(0,255,size=(len(boxes), 3))\n",
    "\n",
    "for i in indexes.flatten():\n",
    "    x,y,w,h = boxes[i]\n",
    "    label = str(classes[class_ids[i]])\n",
    "    confidence = str(round(confidences[i],2))\n",
    "    color = colors[i]\n",
    "    cv2.rectangle(img, (x,y), (x+w, y+h), color, 2)\n",
    "    cv2.putText(img, label + \" \"+ confidence, (x,y+20), font, 2, (255,255,255), 2)\n",
    "\n",
    "print(indexes.flatten())"
   ]
  },
  {
   "cell_type": "code",
   "execution_count": 7,
   "id": "9226ab14",
   "metadata": {},
   "outputs": [],
   "source": [
    "cv2.imshow('Image', img)\n",
    "cv2.waitKey(0)\n",
    "cv2.destroyAllWindows()"
   ]
  },
  {
   "cell_type": "code",
   "execution_count": null,
   "id": "f9f92838",
   "metadata": {},
   "outputs": [],
   "source": []
  }
 ],
 "metadata": {
  "kernelspec": {
   "display_name": "Python 3 (ipykernel)",
   "language": "python",
   "name": "python3"
  },
  "language_info": {
   "codemirror_mode": {
    "name": "ipython",
    "version": 3
   },
   "file_extension": ".py",
   "mimetype": "text/x-python",
   "name": "python",
   "nbconvert_exporter": "python",
   "pygments_lexer": "ipython3",
   "version": "3.9.12"
  }
 },
 "nbformat": 4,
 "nbformat_minor": 5
}
