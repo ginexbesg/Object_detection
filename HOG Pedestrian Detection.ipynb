{
 "cells": [
  {
   "cell_type": "code",
   "execution_count": 3,
   "id": "fdd084d2",
   "metadata": {},
   "outputs": [
    {
     "ename": "KeyboardInterrupt",
     "evalue": "",
     "output_type": "error",
     "traceback": [
      "\u001b[1;31m---------------------------------------------------------------------------\u001b[0m",
      "\u001b[1;31mKeyboardInterrupt\u001b[0m                         Traceback (most recent call last)",
      "Input \u001b[1;32mIn [3]\u001b[0m, in \u001b[0;36m<cell line: 18>\u001b[1;34m()\u001b[0m\n\u001b[0;32m     19\u001b[0m sec \u001b[38;5;241m=\u001b[39m sec \u001b[38;5;241m+\u001b[39m frameRate \n\u001b[0;32m     20\u001b[0m sec \u001b[38;5;241m=\u001b[39m \u001b[38;5;28mround\u001b[39m(sec, \u001b[38;5;241m2\u001b[39m) \n\u001b[1;32m---> 21\u001b[0m success \u001b[38;5;241m=\u001b[39m \u001b[43mgetFrame\u001b[49m\u001b[43m(\u001b[49m\u001b[43msec\u001b[49m\u001b[43m)\u001b[49m\n",
      "Input \u001b[1;32mIn [3]\u001b[0m, in \u001b[0;36mgetFrame\u001b[1;34m(sec)\u001b[0m\n\u001b[0;32m      8\u001b[0m \u001b[38;5;28;01mif\u001b[39;00m hasFrames: \n\u001b[0;32m      9\u001b[0m     cv2\u001b[38;5;241m.\u001b[39mimshow(\u001b[38;5;124m'\u001b[39m\u001b[38;5;124mInvoice\u001b[39m\u001b[38;5;124m'\u001b[39m, image)\n\u001b[1;32m---> 10\u001b[0m     \u001b[43mcv2\u001b[49m\u001b[38;5;241;43m.\u001b[39;49m\u001b[43mwaitKey\u001b[49m\u001b[43m(\u001b[49m\u001b[38;5;241;43m0\u001b[39;49m\u001b[43m)\u001b[49m\n\u001b[0;32m     11\u001b[0m     cv2\u001b[38;5;241m.\u001b[39mdestroyAllWindows()\n\u001b[0;32m     12\u001b[0m     \u001b[38;5;66;03m#cv2.imwrite(\"frame \"+str(sec)+\" sec.jpg\", image)     # save frame as JPG file \u001b[39;00m\n",
      "\u001b[1;31mKeyboardInterrupt\u001b[0m: "
     ]
    }
   ],
   "source": [
    "import cv2 \n",
    "import imutils\n",
    "#from google.colab.patches import cv2_imshow\n",
    "vidcap = cv2.VideoCapture('1.mp4') \n",
    "def getFrame(sec): \n",
    "    vidcap.set(cv2.CAP_PROP_POS_MSEC,sec*1000) \n",
    "    hasFrames,image = vidcap.read() \n",
    "    if hasFrames: \n",
    "        cv2.imshow('Invoice', image)\n",
    "        cv2.waitKey(0)\n",
    "        cv2.destroyAllWindows()\n",
    "        #cv2.imwrite(\"frame \"+str(sec)+\" sec.jpg\", image)     # save frame as JPG file \n",
    "    return hasFrames \n",
    "sec = 0 \n",
    "frameRate = 0.2\n",
    "#it will capture image in each 0.5 second \n",
    "success = getFrame(sec) \n",
    "while success: \n",
    "    sec = sec + frameRate \n",
    "    sec = round(sec, 2) \n",
    "    success = getFrame(sec)"
   ]
  },
  {
   "cell_type": "code",
   "execution_count": 11,
   "id": "376e865d",
   "metadata": {},
   "outputs": [],
   "source": [
    "import cv2\n",
    "import imutils\n",
    "#from google.colab.patches import cv2_imshow\n",
    "cap = cv2.VideoCapture('1.mp4')\n",
    "\n",
    "hog = cv2.HOGDescriptor()\n",
    "hog.setSVMDetector(cv2.HOGDescriptor_getDefaultPeopleDetector())\n",
    "\n",
    "fourcc = cv2.VideoWriter_fourcc('X','V','I','D')\n",
    "\n",
    "out = cv2.VideoWriter(\"outputHOG.mp4\", fourcc, 5.0, (1280,720))\n",
    "while cap.isOpened():\n",
    "  ret, image = cap.read()\n",
    "  if ret:\n",
    "    \n",
    "    image = imutils.resize(image, width=min(400, image.shape[1]))\n",
    "    (regions, _) = hog.detectMultiScale(image, winStride=(1,1),padding=(8,8), scale=1.15)\n",
    "    \n",
    "    for(x,y,w,h) in regions:\n",
    "      cv2.rectangle(image, (x,y), (x+w, y+h), (0,255,0),2)\n",
    "      cv2.putText(image, \"Status: {}\".format('HOG Detection'), (10, 20), cv2.FONT_HERSHEY_SIMPLEX,\n",
    "                    1, (0, 0, 255), 3)\n",
    "      #cv2_imshow(image)\n",
    "      cv2.imshow(\"feed\", image)\n",
    "      imageWrite = cv2.resize(image, (1280,720))\n",
    "      out.write(imageWrite)\n",
    "      if  cv2.waitKey(25) & 0xFF == ord('q') :\n",
    "        break\n",
    "       \n",
    "  else:\n",
    "      break\n",
    "cap.release()\n",
    "cv2.destroyAllWindows()\n",
    "out.release()"
   ]
  },
  {
   "cell_type": "code",
   "execution_count": null,
   "id": "c5b21261",
   "metadata": {},
   "outputs": [],
   "source": []
  }
 ],
 "metadata": {
  "kernelspec": {
   "display_name": "Python 3 (ipykernel)",
   "language": "python",
   "name": "python3"
  },
  "language_info": {
   "codemirror_mode": {
    "name": "ipython",
    "version": 3
   },
   "file_extension": ".py",
   "mimetype": "text/x-python",
   "name": "python",
   "nbconvert_exporter": "python",
   "pygments_lexer": "ipython3",
   "version": "3.9.12"
  }
 },
 "nbformat": 4,
 "nbformat_minor": 5
}
