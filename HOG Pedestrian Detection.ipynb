{
 "cells": [
  {
   "cell_type": "code",
   "execution_count": 11,
   "id": "fbc206c1",
   "metadata": {},
   "outputs": [],
   "source": [
    "import cv2\n",
    "import imutils\n",
    "#from google.colab.patches import cv2_imshow\n",
    "cap = cv2.VideoCapture('1.mp4')\n",
    "\n",
    "hog = cv2.HOGDescriptor()\n",
    "hog.setSVMDetector(cv2.HOGDescriptor_getDefaultPeopleDetector())\n",
    "\n",
    "fourcc = cv2.VideoWriter_fourcc('X','V','I','D')\n",
    "\n",
    "out = cv2.VideoWriter(\"outputHOG.mp4\", fourcc, 5.0, (1280,720))\n",
    "while cap.isOpened():\n",
    "  ret, image = cap.read()\n",
    "  if ret:\n",
    "    \n",
    "    image = imutils.resize(image, width=min(400, image.shape[1]))\n",
    "    (regions, _) = hog.detectMultiScale(image, winStride=(1,1),padding=(8,8), scale=1.15)\n",
    "    \n",
    "    for(x,y,w,h) in regions:\n",
    "      cv2.rectangle(image, (x,y), (x+w, y+h), (0,255,0),2)\n",
    "      cv2.putText(image, \"Status: {}\".format('HOG Detection'), (10, 20), cv2.FONT_HERSHEY_SIMPLEX,\n",
    "                    1, (0, 0, 255), 3)\n",
    "      #cv2_imshow(image)\n",
    "      cv2.imshow(\"feed\", image)\n",
    "      imageWrite = cv2.resize(image, (1280,720))\n",
    "      out.write(imageWrite)\n",
    "      if  cv2.waitKey(25) & 0xFF == ord('q') :\n",
    "        break\n",
    "       \n",
    "  else:\n",
    "      break\n",
    "cap.release()\n",
    "cv2.destroyAllWindows()\n",
    "out.release()"
   ]
  },
  {
   "cell_type": "code",
   "execution_count": null,
   "id": "10cca163",
   "metadata": {},
   "outputs": [],
   "source": []
  }
 ],
 "metadata": {
  "kernelspec": {
   "display_name": "Python 3 (ipykernel)",
   "language": "python",
   "name": "python3"
  },
  "language_info": {
   "codemirror_mode": {
    "name": "ipython",
    "version": 3
   },
   "file_extension": ".py",
   "mimetype": "text/x-python",
   "name": "python",
   "nbconvert_exporter": "python",
   "pygments_lexer": "ipython3",
   "version": "3.9.12"
  }
 },
 "nbformat": 4,
 "nbformat_minor": 5
}
